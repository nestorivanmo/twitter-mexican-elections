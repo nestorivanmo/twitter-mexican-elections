{
  "nbformat": 4,
  "nbformat_minor": 0,
  "metadata": {
    "colab": {
      "name": "Mini-proyecto: Procesamiento y análisis de flujos de datos.ipynb",
      "provenance": [],
      "collapsed_sections": []
    },
    "kernelspec": {
      "name": "python392jvsc74a57bd0aee8b7b246df8f9039afb4144a1f6fd8d2ca17a180786b69acc140d282b71a49",
      "display_name": "Python 3.9.2 64-bit"
    },
    "language_info": {
      "name": "python",
      "version": "3.9.2"
    },
    "metadata": {
      "interpreter": {
        "hash": "aee8b7b246df8f9039afb4144a1f6fd8d2ca17a180786b69acc140d282b71a49"
      }
    }
  },
  "cells": [
    {
      "cell_type": "markdown",
      "metadata": {
        "id": "WKpSIREsImRB"
      },
      "source": [
        "# Mini Proyecto Datos Masivos III\n",
        "\n",
        "- Barrero Olguín Adolfo Patricio\n",
        "- Martínez Ostoa Néstor Iván\n",
        "- Ramírez Bondi Jorge Alejandro"
      ]
    },
    {
      "cell_type": "code",
      "metadata": {
        "colab": {
          "base_uri": "https://localhost:8080/"
        },
        "id": "zZ0gQVoEp-IT",
        "outputId": "89d1b903-6ca7-497c-e670-1a9b29d955f1"
      },
      "source": [
        "!pip install pyspark\n",
        "!pip install wordcloud\n",
        "!pip install -U -q PyDrive\n",
        "!pip install boto3\n",
        "!apt install openjdk-8-jdk-headless -qq\n",
        "import os\n",
        "os.environ[\"JAVA_HOME\"] = \"/usr/lib/jvm/java-8-openjdk-amd64\""
      ],
      "execution_count": null,
      "outputs": [
        {
          "output_type": "stream",
          "text": [
            "Requirement already satisfied: pyspark in /usr/local/lib/python3.7/dist-packages (3.1.2)\n",
            "Requirement already satisfied: py4j==0.10.9 in /usr/local/lib/python3.7/dist-packages (from pyspark) (0.10.9)\n",
            "\u001b[K     |████████████████████████████████| 133kB 3.2MB/s \n",
            "\u001b[31mERROR: datascience 0.10.6 has requirement folium==0.2.1, but you'll have folium 0.8.3 which is incompatible.\u001b[0m\n",
            "\u001b[?25hRequirement already satisfied: boto3 in /usr/local/lib/python3.7/dist-packages (1.17.89)\n",
            "Requirement already satisfied: s3transfer<0.5.0,>=0.4.0 in /usr/local/lib/python3.7/dist-packages (from boto3) (0.4.2)\n",
            "Requirement already satisfied: jmespath<1.0.0,>=0.7.1 in /usr/local/lib/python3.7/dist-packages (from boto3) (0.10.0)\n",
            "Requirement already satisfied: botocore<1.21.0,>=1.20.89 in /usr/local/lib/python3.7/dist-packages (from boto3) (1.20.89)\n",
            "Requirement already satisfied: python-dateutil<3.0.0,>=2.1 in /usr/local/lib/python3.7/dist-packages (from botocore<1.21.0,>=1.20.89->boto3) (2.8.1)\n",
            "Requirement already satisfied: urllib3<1.27,>=1.25.4 in /usr/local/lib/python3.7/dist-packages (from botocore<1.21.0,>=1.20.89->boto3) (1.25.11)\n",
            "Requirement already satisfied: six>=1.5 in /usr/local/lib/python3.7/dist-packages (from python-dateutil<3.0.0,>=2.1->botocore<1.21.0,>=1.20.89->boto3) (1.15.0)\n",
            "openjdk-8-jdk-headless is already the newest version (8u292-b10-0ubuntu1~18.04).\n",
            "0 upgraded, 0 newly installed, 0 to remove and 39 not upgraded.\n"
          ],
          "name": "stdout"
        }
      ]
    },
    {
      "cell_type": "code",
      "metadata": {
        "id": "LIoFpBkrp67l"
      },
      "source": [
        "# Cosas importantes de pyspark\n",
        "import pyspark\n",
        "from pyspark import SparkContext\n",
        "from pyspark.streaming import StreamingContext\n",
        "from pyspark.sql.functions import size\n",
        "\n",
        "# Extras\n",
        "from operator import add, sub\n",
        "from time import sleep\n",
        "import string\n",
        "\n",
        "from urllib.request import urlopen\n",
        "import json\n",
        "import boto3\n",
        "\n",
        "import numpy as np\n",
        "import matplotlib.pyplot as plt\n",
        "\n",
        "from wordcloud import WordCloud\n",
        "import re\n",
        "import nltk\n",
        "nltk.download('stopwords')\n",
        "\n",
        "from scipy.sparse import csr_matrix\n",
        "from sklearn.preprocessing import OrdinalEncoder"
      ],
      "execution_count": 1,
      "outputs": [
        {
          "output_type": "stream",
          "name": "stderr",
          "text": [
            "[nltk_data] Downloading package stopwords to\n[nltk_data]     /Users/nestorivanmo/nltk_data...\n[nltk_data]   Package stopwords is already up-to-date!\n"
          ]
        }
      ]
    },
    {
      "cell_type": "code",
      "metadata": {
        "id": "oiWrxdwZTfuq"
      },
      "source": [
        "nltk.download('stopwords')"
      ],
      "execution_count": 2,
      "outputs": [
        {
          "output_type": "stream",
          "name": "stderr",
          "text": [
            "[nltk_data] Downloading package stopwords to\n[nltk_data]     /Users/nestorivanmo/nltk_data...\n[nltk_data]   Package stopwords is already up-to-date!\n"
          ]
        },
        {
          "output_type": "execute_result",
          "data": {
            "text/plain": [
              "True"
            ]
          },
          "metadata": {},
          "execution_count": 2
        }
      ]
    },
    {
      "cell_type": "markdown",
      "metadata": {
        "id": "U8V9akp-LJDi"
      },
      "source": [
        "# AWS"
      ]
    },
    {
      "cell_type": "code",
      "metadata": {
        "id": "DZWv2Z3kDyl6"
      },
      "source": [
        "comprehend = boto3.client(\n",
        "    service_name='comprehend', region_name='us-east-1',\n",
        "    aws_access_key_id=aws_access_key_id,\n",
        "    aws_secret_access_key=aws_secret_access_key,\n",
        "    aws_session_token=aws_session_token\n",
        ")"
      ],
      "execution_count": 4,
      "outputs": []
    },
    {
      "cell_type": "code",
      "metadata": {
        "id": "V8wFE9DVGduE"
      },
      "source": [
        "def analyze_tweet(text):\n",
        "  return comprehend.detect_sentiment(Text=text, LanguageCode='es')['Sentiment']"
      ],
      "execution_count": 5,
      "outputs": []
    },
    {
      "cell_type": "code",
      "metadata": {
        "id": "q9qpAGjDGOZC",
        "colab": {
          "base_uri": "https://localhost:8080/",
          "height": 36
        },
        "outputId": "48ab95fd-9bca-4fe3-fee5-ef260bc78641"
      },
      "source": [
        "analyze_tweet(\"RT @claraluzflores: Este 6 de junio el poder es tuyo, juntos vamos a construir ese puente al futuro que tanto necesitamos. \\n\\nVamos a regres…\")"
      ],
      "execution_count": 6,
      "outputs": [
        {
          "output_type": "execute_result",
          "data": {
            "text/plain": [
              "'POSITIVE'"
            ]
          },
          "metadata": {},
          "execution_count": 6
        }
      ]
    },
    {
      "cell_type": "markdown",
      "metadata": {
        "id": "Y2oXCb0RLPfd"
      },
      "source": [
        "# Lectura Datos"
      ]
    },
    {
      "cell_type": "code",
      "metadata": {
        "id": "u-5I-aTFrDQc",
        "colab": {
          "base_uri": "https://localhost:8080/"
        },
        "outputId": "10f3a54b-d825-4f2b-fa6e-ca502b1b0d58"
      },
      "source": [
        "url = \"https://raw.githubusercontent.com/nestorivanmo/twitter-mexican-elections/main/data_nestor/data.json?token=AHLLFMVYMEEMFMQ22XXSDN3AZDXJ2\"\n",
        "response = urlopen(url)\n",
        "data_json = json.loads(response.read())\n",
        "type(data_json)"
      ],
      "execution_count": 7,
      "outputs": [
        {
          "output_type": "execute_result",
          "data": {
            "text/plain": [
              "dict"
            ]
          },
          "metadata": {},
          "execution_count": 7
        }
      ]
    },
    {
      "cell_type": "code",
      "metadata": {
        "id": "hPT7E8iCqJCA"
      },
      "source": [
        "datos_lista = []\n",
        "for i in data_json:\n",
        "    datos_lista.append(data_json[i])"
      ],
      "execution_count": 8,
      "outputs": []
    },
    {
      "cell_type": "code",
      "metadata": {
        "id": "2PMS-Kha7JgC"
      },
      "source": [
        "np.random.seed(182)\n",
        "\n",
        "batches = []\n",
        "\n",
        "while len(datos_lista) > 100:\n",
        "  batch_size = np.random.randint(50, 100)\n",
        "  batch = datos_lista[:batch_size]\n",
        "  datos_lista = datos_lista[batch_size:]\n",
        "  batches.append(batch)\n",
        "  \n",
        "batches.append(datos_lista)"
      ],
      "execution_count": 9,
      "outputs": []
    },
    {
      "cell_type": "markdown",
      "metadata": {
        "id": "z2UjemTODDTp"
      },
      "source": [
        "## Ejemplos de Tweets"
      ]
    },
    {
      "cell_type": "code",
      "metadata": {
        "id": "GS7_5vn95iVV",
        "colab": {
          "base_uri": "https://localhost:8080/"
        },
        "outputId": "f510713d-f4c7-42a7-b314-c2c52ea1d831"
      },
      "source": [
        "sc = SparkContext.getOrCreate()\n",
        "delta_t = 1 # en segundos\n",
        "ssc = StreamingContext(sc, delta_t)\n",
        "\n",
        "flujo_rym = ssc.queueStream(batches)\n",
        "\n",
        "flujo_rym.pprint(2)\n",
        "\n",
        "ssc.start()\n",
        "sleep(10)\n",
        "ssc.stop(stopSparkContext = False)"
      ],
      "execution_count": null,
      "outputs": [
        {
          "output_type": "stream",
          "text": [
            "-------------------------------------------\n",
            "Time: 2021-06-08 22:46:49\n",
            "-------------------------------------------\n",
            "{'data': {'entities': {'mentions': [{'start': 3, 'end': 18, 'username': 'claraluzflores'}]}, 'author_id': '1265700209792778240', 'referenced_tweets': [{'type': 'retweeted', 'id': '1398727240192610310'}], 'public_metrics': {'retweet_count': 8, 'reply_count': 0, 'like_count': 0, 'quote_count': 0}, 'source': 'Twitter Web App', 'text': 'RT @claraluzflores: Este 6 de junio el poder es tuyo, juntos vamos a construir ese puente al futuro que tanto necesitamos. \\n\\nVamos a regres…', 'id': '1398729426637033474', 'created_at': '2021-05-29T19:54:17.000Z'}, 'includes': {'users': [{'created_at': '2020-05-27T17:44:13.000Z', 'verified': False, 'name': 'mario perez b.', 'username': 'marioperezb2', 'description': '', 'id': '1265700209792778240', 'protected': False, 'public_metrics': {'followers_count': 19, 'following_count': 39, 'tweet_count': 1235, 'listed_count': 0}}]}, 'matching_rules': [{'id': 1398729449777111048, 'tag': 'Clara Luz'}], 'sentiment': 'POSITIVE'}\n",
            "{'data': {'entities': {'mentions': [{'start': 0, 'end': 14, 'username': 'mario_delgado'}, {'start': 15, 'end': 30, 'username': 'claraluzflores'}], 'hashtags': [{'start': 31, 'end': 41, 'tag': 'ladysecta'}], 'annotations': [{'start': 52, 'end': 58, 'probability': 0.9232, 'type': 'Person', 'normalized_text': 'Delgado'}]}, 'author_id': '93938597', 'in_reply_to_user_id': '36774829', 'referenced_tweets': [{'type': 'replied_to', 'id': '1398647820932898818'}], 'public_metrics': {'retweet_count': 0, 'reply_count': 0, 'like_count': 0, 'quote_count': 0}, 'source': 'Twitter for Android', 'text': '@mario_delgado @claraluzflores #ladysecta + el capo Delgado. Vaya mancuerna.', 'geo': {'place_id': 'bfc35dcc7e63252a'}, 'id': '1398729434325266437', 'created_at': '2021-05-29T19:54:18.000Z'}, 'includes': {'users': [{'created_at': '2009-12-01T20:40:42.000Z', 'verified': False, 'name': 'Carlos Cambiazzo', 'username': 'ccambiazzo', 'description': 'CEO BST / Casting Director + Productor Asociado / Papá de Pancho, amante dl cine, la buena música, la fiesta, la política, las causas justas y los animales.', 'id': '93938597', 'location': 'Mexico City', 'protected': False, 'public_metrics': {'followers_count': 4354, 'following_count': 1495, 'tweet_count': 33276, 'listed_count': 22}}]}, 'matching_rules': [{'id': 1398729449777111048, 'tag': 'Clara Luz'}], 'sentiment': 'NEUTRAL'}\n",
            "...\n",
            "\n",
            "-------------------------------------------\n",
            "Time: 2021-06-08 22:46:50\n",
            "-------------------------------------------\n",
            "{'data': {'context_annotations': [{'domain': {'id': '119', 'name': 'Holiday', 'description': 'Holidays like Christmas or Halloween'}, 'entity': {'id': '1286645331686350848', 'name': 'Dia de la Independencia (Grito de Dolores) ', 'description': 'This entity includes conversations about Dia de la Independencia (Grito de Dolores) for all years.'}}], 'entities': {'mentions': [{'start': 3, 'end': 19, 'username': 'AdrianDeLaGarza'}, {'start': 47, 'end': 59, 'username': 'ildefonsogv'}], 'annotations': [{'start': 107, 'end': 112, 'probability': 0.9566, 'type': 'Place', 'normalized_text': 'México'}]}, 'author_id': '255186930', 'referenced_tweets': [{'type': 'retweeted', 'id': '1398462161278676995'}], 'public_metrics': {'retweet_count': 234, 'reply_count': 0, 'like_count': 0, 'quote_count': 0}, 'source': 'Twitter for iPhone', 'text': 'RT @AdrianDeLaGarza: Así como lo dice mi amigo @ildefonsogv, este próximo 6 de junio se juega el futuro de México. Vota por la experiencia…', 'id': '1398731441719087107', 'created_at': '2021-05-29T20:02:17.000Z'}, 'includes': {'users': [{'created_at': '2011-02-20T21:21:13.000Z', 'verified': False, 'name': 'OSCAR LUEBBERT GTZ', 'username': 'lugo056', 'description': 'DE REYNOSA TAMAULIPAS LIC EN ECONOMIA TEC DE MTY', 'id': '255186930', 'location': 'MEXICO', 'protected': False, 'public_metrics': {'followers_count': 1378, 'following_count': 533, 'tweet_count': 934, 'listed_count': 2}}]}, 'matching_rules': [{'id': 1398729449777111046, 'tag': 'Adrian de la Garza'}], 'sentiment': 'NEUTRAL'}\n",
            "{'data': {'entities': {'mentions': [{'start': 3, 'end': 11, 'username': 'greyszu'}, {'start': 118, 'end': 133, 'username': 'samuel_garcias'}], 'annotations': [{'start': 19, 'end': 35, 'probability': 0.9962, 'type': 'Person', 'normalized_text': 'Mariana Rodríguez'}]}, 'author_id': '1387854664377552899', 'referenced_tweets': [{'type': 'retweeted', 'id': '1398730928156037121'}], 'public_metrics': {'retweet_count': 4, 'reply_count': 0, 'like_count': 0, 'quote_count': 0}, 'source': 'Twitter for iPhone', 'text': 'RT @greyszu: Hasta Mariana Rodríguez está hasta la madre de tus payasadas qué haces para tu campaña llena de mentiras @samuel_garcias. Esta…', 'id': '1398731445556887557', 'created_at': '2021-05-29T20:02:18.000Z'}, 'includes': {'users': [{'created_at': '2021-04-29T19:42:01.000Z', 'verified': False, 'name': 'Vanessa Sanchez', 'username': 'VanessaSan102', 'description': '📍 Monterrey, Nuevo León', 'id': '1387854664377552899', 'location': 'Monterrey, Nuevo León', 'protected': False, 'public_metrics': {'followers_count': 104, 'following_count': 110, 'tweet_count': 3184, 'listed_count': 0}}]}, 'matching_rules': [{'id': 1398729449777111045, 'tag': 'Samuel Garcia'}], 'sentiment': 'NEGATIVE'}\n",
            "...\n",
            "\n",
            "-------------------------------------------\n",
            "Time: 2021-06-08 22:46:51\n",
            "-------------------------------------------\n",
            "{'data': {'entities': {'mentions': [{'start': 14, 'end': 30, 'username': 'AdrianDeLaGarza'}], 'annotations': [{'start': 3, 'end': 12, 'probability': 0.6723, 'type': 'Place', 'normalized_text': 'Nuevo León'}]}, 'author_id': '1395242707442757633', 'public_metrics': {'retweet_count': 0, 'reply_count': 0, 'like_count': 0, 'quote_count': 0}, 'source': 'Twitter for Android', 'text': 'En Nuevo León @AdrianDeLaGarza no tendrá cierre y eso lo aplaudo 👏🏻👏🏻👏🏻 no estamos para eventos masivos ahorita', 'id': '1398732884953817091', 'created_at': '2021-05-29T20:08:01.000Z'}, 'includes': {'users': [{'created_at': '2021-05-20T04:59:24.000Z', 'verified': False, 'name': 'Enrique Peña Nieto', 'username': 'EPN_ElLider', 'description': 'Presidente de México 2012-2018.\\n\\nLord Peña, obvio parodia, Nunca me levante temprano para joder a México. \\nUltimo presidente elejido de manera Democratica.#EPN', 'id': '1395242707442757633', 'location': 'Tú corazón', 'protected': False, 'public_metrics': {'followers_count': 21, 'following_count': 17, 'tweet_count': 181, 'listed_count': 0}}]}, 'matching_rules': [{'id': 1398729449777111046, 'tag': 'Adrian de la Garza'}], 'sentiment': 'POSITIVE'}\n",
            "{'data': {'entities': {'mentions': [{'start': 3, 'end': 18, 'username': 'mast3rpiece100'}, {'start': 20, 'end': 34, 'username': 'mario_delgado'}, {'start': 35, 'end': 50, 'username': 'claraluzflores'}], 'annotations': [{'start': 116, 'end': 122, 'probability': 0.3211, 'type': 'Person', 'normalized_text': 'Raniere'}]}, 'author_id': '90198335', 'referenced_tweets': [{'type': 'retweeted', 'id': '1398697450790080527'}], 'public_metrics': {'retweet_count': 10, 'reply_count': 0, 'like_count': 0, 'quote_count': 0}, 'source': 'Twitter Web App', 'text': 'RT @mast3rpiece100: @mario_delgado @claraluzflores Son una burla, primero la que dijo que no conocía a la secta del Raniere y luego el #Lor…', 'id': '1398732893934006277', 'created_at': '2021-05-29T20:08:03.000Z'}, 'includes': {'users': [{'created_at': '2009-11-15T16:53:34.000Z', 'verified': False, 'name': 'Diego A. Olvera Luna', 'username': 'DiegOlvera_Luna', 'description': 'Eres mi luz. A veces brillas tanto que tengo que voltear la mirada.', 'id': '90198335', 'protected': False, 'public_metrics': {'followers_count': 103, 'following_count': 136, 'tweet_count': 7652, 'listed_count': 0}}]}, 'matching_rules': [{'id': 1398729449777111048, 'tag': 'Clara Luz'}], 'sentiment': 'NEGATIVE'}\n",
            "...\n",
            "\n",
            "-------------------------------------------\n",
            "Time: 2021-06-08 22:46:52\n",
            "-------------------------------------------\n",
            "{'data': {'entities': {'mentions': [{'start': 3, 'end': 18, 'username': 'claraluzflores'}]}, 'author_id': '217668398', 'referenced_tweets': [{'type': 'retweeted', 'id': '1398475806846955523'}], 'public_metrics': {'retweet_count': 45, 'reply_count': 0, 'like_count': 0, 'quote_count': 0}, 'source': 'Twitter for Android', 'text': 'RT @claraluzflores: En mi gobierno impulsaremos programas que promuevan el desarrollo sostenible, la reactivación económica, la felicidad y…', 'id': '1398735229406355461', 'created_at': '2021-05-29T20:17:20.000Z'}, 'includes': {'users': [{'created_at': '2010-11-20T04:49:20.000Z', 'verified': False, 'name': 'MobitVotaTodoMorenaPT☭Chairo', 'username': 'MobitRealChairo', 'description': 'Reivindico el espejismo d´intentar ser 1mismo, Fiel seguidor d´Tzilacantzín; No sigo cuentas ególotras. Tenemos memoria histórica y eso los enfurece. Excelencia', 'id': '217668398', 'location': 'Huachirafo saliendo del Oxxo', 'protected': False, 'public_metrics': {'followers_count': 4059, 'following_count': 4078, 'tweet_count': 225097, 'listed_count': 22}}]}, 'matching_rules': [{'id': 1398729449777111048, 'tag': 'Clara Luz'}], 'sentiment': 'POSITIVE'}\n",
            "{'data': {'entities': {'mentions': [{'start': 3, 'end': 19, 'username': 'FerLarrazabalNL'}]}, 'author_id': '942740052', 'referenced_tweets': [{'type': 'retweeted', 'id': '1398603127784366084'}], 'public_metrics': {'retweet_count': 54, 'reply_count': 0, 'like_count': 0, 'quote_count': 0}, 'source': 'Twitter for Android', 'text': 'RT @FerLarrazabalNL: Este 6 de junio, juntos vamos a definir el rumbo de nuestro estado, este 2021 Nuevo León será azul.\\n\\n#LarrazabalGobern…', 'id': '1398735235437707274', 'created_at': '2021-05-29T20:17:22.000Z'}, 'includes': {'users': [{'created_at': '2012-11-12T03:28:51.000Z', 'verified': False, 'name': 'paty moreno', 'username': 'paty_morcast', 'description': '', 'id': '942740052', 'protected': False, 'public_metrics': {'followers_count': 23, 'following_count': 46, 'tweet_count': 636, 'listed_count': 0}}]}, 'matching_rules': [{'id': 1398729449777111047, 'tag': 'Fernando Larrazabal'}], 'sentiment': 'NEUTRAL'}\n",
            "...\n",
            "\n",
            "-------------------------------------------\n",
            "Time: 2021-06-08 22:46:53\n",
            "-------------------------------------------\n",
            "{'data': {'entities': {'mentions': [{'start': 3, 'end': 17, 'username': 'RealPolitikNL'}, {'start': 36, 'end': 52, 'username': 'AdrianDeLaGarza'}, {'start': 107, 'end': 122, 'username': 'samuel_garcias'}], 'hashtags': [{'start': 19, 'end': 27, 'tag': 'OnePoll'}]}, 'author_id': '153945377', 'referenced_tweets': [{'type': 'retweeted', 'id': '1398691851356487683'}], 'public_metrics': {'retweet_count': 19, 'reply_count': 0, 'like_count': 0, 'quote_count': 0}, 'source': 'Twitter for Android', 'text': 'RT @RealPolitikNL: #OnePoll ubica a @AdrianDeLaGarza arriba en preferencias electorales netas mientras que @samuel_garcias es seguido de ce…', 'id': '1398736717369286663', 'created_at': '2021-05-29T20:23:15.000Z'}, 'includes': {'users': [{'created_at': '2010-06-09T23:55:32.000Z', 'verified': False, 'name': 'Mike wooouw', 'username': 'mikix22', 'description': 'Mike wousaski', 'id': '153945377', 'location': 'Apodaca N.L Mexico', 'protected': False, 'public_metrics': {'followers_count': 150, 'following_count': 754, 'tweet_count': 5324, 'listed_count': 0}}]}, 'matching_rules': [{'id': 1398729449777111048, 'tag': 'Clara Luz'}, {'id': 1398729449777111045, 'tag': 'Samuel Garcia'}, {'id': 1398729449777111046, 'tag': 'Adrian de la Garza'}, {'id': 1398729449777111047, 'tag': 'Fernando Larrazabal'}], 'sentiment': 'MIXED'}\n",
            "{'data': {'entities': {'mentions': [{'start': 0, 'end': 15, 'username': 'CrisitiBellaka'}, {'start': 16, 'end': 31, 'username': 'samuel_garcias'}], 'annotations': [{'start': 54, 'end': 70, 'probability': 0.342, 'type': 'Organization', 'normalized_text': 'Movimiento Morena'}, {'start': 74, 'end': 83, 'probability': 0.5968, 'type': 'Place', 'normalized_text': 'Nuevo León'}]}, 'author_id': '1389743189549010951', 'in_reply_to_user_id': '1388570505310003200', 'referenced_tweets': [{'type': 'replied_to', 'id': '1398733712955559937'}], 'public_metrics': {'retweet_count': 0, 'reply_count': 0, 'like_count': 0, 'quote_count': 0}, 'source': 'Twitter for iPhone', 'text': '@CrisitiBellaka @samuel_garcias No entrará a gobernar Movimiento Morena a Nuevo León', 'id': '1398736762382475268', 'created_at': '2021-05-29T20:23:26.000Z'}, 'includes': {'users': [{'created_at': '2021-05-05T00:46:20.000Z', 'verified': False, 'name': 'adrian', 'username': 'ADrianRu121', 'description': '', 'id': '1389743189549010951', 'location': 'Monterrey, Nuevo León', 'protected': False, 'public_metrics': {'followers_count': 104, 'following_count': 98, 'tweet_count': 837, 'listed_count': 0}}]}, 'matching_rules': [{'id': 1398729449777111045, 'tag': 'Samuel Garcia'}], 'sentiment': 'NEUTRAL'}\n",
            "...\n",
            "\n",
            "-------------------------------------------\n",
            "Time: 2021-06-08 22:46:54\n",
            "-------------------------------------------\n",
            "{'data': {'attachments': {'media_keys': ['3_1398738942900551685']}, 'entities': {'mentions': [{'start': 0, 'end': 11, 'username': 'MichRmz_1D'}, {'start': 12, 'end': 27, 'username': 'samuel_garcias'}], 'urls': [{'start': 119, 'end': 142, 'url': 'https://t.co/z5f9XXzjvZ', 'expanded_url': 'https://twitter.com/AbbyBD10/status/1398738945509371904/photo/1', 'display_url': 'pic.twitter.com/z5f9XXzjvZ'}], 'annotations': [{'start': 31, 'end': 40, 'probability': 0.9531, 'type': 'Place', 'normalized_text': 'Nuevo León'}, {'start': 84, 'end': 89, 'probability': 0.9772, 'type': 'Person', 'normalized_text': 'Samuel'}]}, 'author_id': '4772238307', 'in_reply_to_user_id': '2159735905', 'referenced_tweets': [{'type': 'replied_to', 'id': '1398737455306756096'}], 'public_metrics': {'retweet_count': 0, 'reply_count': 0, 'like_count': 0, 'quote_count': 0}, 'source': 'Twitter for Android', 'text': '@MichRmz_1D @samuel_garcias En Nuevo León no le permitiremos a gente mentirosa como Samuel que sea nuestro gobernador. https://t.co/z5f9XXzjvZ', 'id': '1398738945509371904', 'created_at': '2021-05-29T20:32:06.000Z'}, 'includes': {'users': [{'created_at': '2016-01-17T06:33:55.000Z', 'verified': False, 'name': 'Abi Barrientos 💕', 'username': 'AbbyBD10', 'description': 'El cielo es la meta.', 'id': '4772238307', 'protected': False, 'public_metrics': {'followers_count': 85, 'following_count': 73, 'tweet_count': 277, 'listed_count': 0}}]}, 'matching_rules': [{'id': 1398729449777111045, 'tag': 'Samuel Garcia'}], 'sentiment': 'NEGATIVE'}\n",
            "{'data': {'entities': {'mentions': [{'start': 0, 'end': 13, 'username': 'michelleGuzm'}, {'start': 14, 'end': 25, 'username': 'AndreaC666'}, {'start': 26, 'end': 41, 'username': 'samuel_garcias'}]}, 'author_id': '1389743189549010951', 'in_reply_to_user_id': '1103362386415767553', 'referenced_tweets': [{'type': 'replied_to', 'id': '1398738481241804810'}], 'public_metrics': {'retweet_count': 0, 'reply_count': 0, 'like_count': 0, 'quote_count': 0}, 'source': 'Twitter for iPhone', 'text': '@michelleGuzm @AndreaC666 @samuel_garcias Pobre de su esposa que lo ve todos los días a este pobre diablo', 'id': '1398738956162932738', 'created_at': '2021-05-29T20:32:09.000Z'}, 'includes': {'users': [{'created_at': '2021-05-05T00:46:20.000Z', 'verified': False, 'name': 'adrian', 'username': 'ADrianRu121', 'description': '', 'id': '1389743189549010951', 'location': 'Monterrey, Nuevo León', 'protected': False, 'public_metrics': {'followers_count': 104, 'following_count': 98, 'tweet_count': 839, 'listed_count': 0}}]}, 'matching_rules': [{'id': 1398729449777111045, 'tag': 'Samuel Garcia'}], 'sentiment': 'NEGATIVE'}\n",
            "...\n",
            "\n",
            "-------------------------------------------\n",
            "Time: 2021-06-08 22:46:55\n",
            "-------------------------------------------\n",
            "{'data': {'attachments': {'media_keys': ['3_1398739927181922307']}, 'context_annotations': [{'domain': {'id': '119', 'name': 'Holiday', 'description': 'Holidays like Christmas or Halloween'}, 'entity': {'id': '1286645331686350848', 'name': 'Dia de la Independencia (Grito de Dolores) ', 'description': 'This entity includes conversations about Dia de la Independencia (Grito de Dolores) for all years.'}}], 'entities': {'mentions': [{'start': 3, 'end': 17, 'username': 'mario_delgado'}, {'start': 100, 'end': 115, 'username': 'claraluzflores'}], 'hashtags': [{'start': 83, 'end': 98, 'tag': 'VotaTodoMorena'}], 'urls': [{'start': 116, 'end': 139, 'url': 'https://t.co/2eI78P23Sr', 'expanded_url': 'https://twitter.com/mario_delgado/status/1398739932345110530/photo/1', 'display_url': 'pic.twitter.com/2eI78P23Sr'}], 'annotations': [{'start': 55, 'end': 64, 'probability': 0.9401, 'type': 'Place', 'normalized_text': 'Nuevo León'}, {'start': 76, 'end': 81, 'probability': 0.8752, 'type': 'Place', 'normalized_text': 'México'}]}, 'author_id': '1077742020980948992', 'referenced_tweets': [{'type': 'retweeted', 'id': '1398739932345110530'}], 'public_metrics': {'retweet_count': 3, 'reply_count': 0, 'like_count': 0, 'quote_count': 0}, 'source': 'Twitter Web App', 'text': 'RT @mario_delgado: ¡Faltan 8 días!\\n\\nEste 6 de junio en Nuevo León y en todo México #VotaTodoMorena\\n\\n@claraluzflores https://t.co/2eI78P23Sr', 'id': '1398740339398164483', 'created_at': '2021-05-29T20:37:38.000Z'}, 'includes': {'users': [{'created_at': '2018-12-26T01:44:56.000Z', 'verified': False, 'name': 'chucho; \"Cuida a Tus Adultos Mayores\"', 'username': 'chuchop82553009', 'description': '', 'id': '1077742020980948992', 'location': 'Mexico', 'protected': False, 'public_metrics': {'followers_count': 120, 'following_count': 267, 'tweet_count': 5269, 'listed_count': 0}}]}, 'matching_rules': [{'id': 1398729449777111048, 'tag': 'Clara Luz'}], 'sentiment': 'MIXED'}\n",
            "{'data': {'entities': {'mentions': [{'start': 3, 'end': 18, 'username': 'AlejoNoLeSuena'}, {'start': 20, 'end': 30, 'username': 'athemayst'}, {'start': 31, 'end': 38, 'username': 'merv59'}], 'annotations': [{'start': 62, 'end': 72, 'probability': 0.7046, 'type': 'Place', 'normalized_text': 'Agua Blanca'}, {'start': 78, 'end': 82, 'probability': 0.3675, 'type': 'Person', 'normalized_text': 'Siloé'}, {'start': 123, 'end': 138, 'probability': 0.774, 'type': 'Person', 'normalized_text': 'Dilian Francisca'}]}, 'author_id': '1009394119', 'referenced_tweets': [{'type': 'retweeted', 'id': '1398456312476934145'}], 'public_metrics': {'retweet_count': 12, 'reply_count': 0, 'like_count': 0, 'quote_count': 0}, 'source': 'Twitter for Android', 'text': 'RT @AlejoNoLeSuena: @athemayst @merv59 En este mes asesinan a Agua Blanca y a Siloé, de donde salen los votos que tienen a Dilian Francisca…', 'id': '1398740359602229250', 'created_at': '2021-05-29T20:37:43.000Z'}, 'includes': {'users': [{'created_at': '2012-12-13T18:03:10.000Z', 'verified': False, 'name': 'luz gomez', 'username': 'lu03_luz', 'description': '', 'id': '1009394119', 'protected': False, 'public_metrics': {'followers_count': 216, 'following_count': 83, 'tweet_count': 27341, 'listed_count': 1}}]}, 'matching_rules': [{'id': 1398729449777111048, 'tag': 'Clara Luz'}], 'sentiment': 'NEGATIVE'}\n",
            "...\n",
            "\n",
            "-------------------------------------------\n",
            "Time: 2021-06-08 22:46:56\n",
            "-------------------------------------------\n",
            "{'data': {'attachments': {'media_keys': ['3_1398739927181922307']}, 'context_annotations': [{'domain': {'id': '119', 'name': 'Holiday', 'description': 'Holidays like Christmas or Halloween'}, 'entity': {'id': '1286645331686350848', 'name': 'Dia de la Independencia (Grito de Dolores) ', 'description': 'This entity includes conversations about Dia de la Independencia (Grito de Dolores) for all years.'}}], 'entities': {'mentions': [{'start': 3, 'end': 17, 'username': 'mario_delgado'}, {'start': 100, 'end': 115, 'username': 'claraluzflores'}], 'hashtags': [{'start': 83, 'end': 98, 'tag': 'VotaTodoMorena'}], 'urls': [{'start': 116, 'end': 139, 'url': 'https://t.co/2eI78P23Sr', 'expanded_url': 'https://twitter.com/mario_delgado/status/1398739932345110530/photo/1', 'display_url': 'pic.twitter.com/2eI78P23Sr'}], 'annotations': [{'start': 55, 'end': 64, 'probability': 0.9401, 'type': 'Place', 'normalized_text': 'Nuevo León'}, {'start': 76, 'end': 81, 'probability': 0.8752, 'type': 'Place', 'normalized_text': 'México'}]}, 'author_id': '1207450606996058114', 'referenced_tweets': [{'type': 'retweeted', 'id': '1398739932345110530'}], 'public_metrics': {'retweet_count': 16, 'reply_count': 0, 'like_count': 0, 'quote_count': 0}, 'source': 'Twitter for Android', 'text': 'RT @mario_delgado: ¡Faltan 8 días!\\n\\nEste 6 de junio en Nuevo León y en todo México #VotaTodoMorena\\n\\n@claraluzflores https://t.co/2eI78P23Sr', 'id': '1398741660037570562', 'created_at': '2021-05-29T20:42:53.000Z'}, 'includes': {'users': [{'created_at': '2019-12-19T00:00:46.000Z', 'verified': False, 'name': 'Mc_perez', 'username': 'Mcperez61517285', 'description': 'Corrige a un tonto y te odiara,\\nCorrige a un sabio y te lo agradecerá.\\nAl 1000% con AMLO, si no te gusta buscate un Chile k te embone bien, ya dije', 'id': '1207450606996058114', 'protected': False, 'public_metrics': {'followers_count': 3942, 'following_count': 4998, 'tweet_count': 25260, 'listed_count': 1}}]}, 'matching_rules': [{'id': 1398729449777111048, 'tag': 'Clara Luz'}], 'sentiment': 'MIXED'}\n",
            "{'data': {'entities': {'mentions': [{'start': 3, 'end': 15, 'username': 'diaz_manuel'}, {'start': 87, 'end': 102, 'username': 'MovCiudadanoMX'}], 'annotations': [{'start': 118, 'end': 127, 'probability': 0.9194, 'type': 'Place', 'normalized_text': 'Nuevo León'}]}, 'author_id': '533699734', 'referenced_tweets': [{'type': 'retweeted', 'id': '1396105439708860421'}], 'public_metrics': {'retweet_count': 438, 'reply_count': 0, 'like_count': 0, 'quote_count': 0}, 'source': 'Twitter for Android', 'text': 'RT @diaz_manuel: Mucho hablamos del miserable papel de lacayos comparsas de MORENA que @MovCiudadanoMX  está dando en Nuevo León. \\n\\nPero el…', 'id': '1398741669328138240', 'created_at': '2021-05-29T20:42:55.000Z'}, 'includes': {'users': [{'created_at': '2012-03-23T00:52:15.000Z', 'verified': False, 'name': 'Vero Ruiz', 'username': 'vecruc', 'description': 'Harta de Políticos que en lugar de servir se sirven, necesarios los lideres que apoyan y fortalecen la DEMOCRACIA!', 'id': '533699734', 'protected': False, 'public_metrics': {'followers_count': 1799, 'following_count': 1973, 'tweet_count': 88538, 'listed_count': 22}}]}, 'matching_rules': [{'id': 1398729449777111046, 'tag': 'Adrian de la Garza'}], 'sentiment': 'NEGATIVE'}\n",
            "...\n",
            "\n",
            "-------------------------------------------\n",
            "Time: 2021-06-08 22:46:57\n",
            "-------------------------------------------\n",
            "{'data': {'attachments': {'media_keys': ['3_1398743043470200837']}, 'entities': {'mentions': [{'start': 48, 'end': 63, 'username': 'samuel_garcias'}], 'urls': [{'start': 87, 'end': 110, 'url': 'https://t.co/cai1RIeyHL', 'expanded_url': 'https://twitter.com/greyszu/status/1398743046297169920/photo/1', 'display_url': 'pic.twitter.com/cai1RIeyHL'}], 'annotations': [{'start': 41, 'end': 46, 'probability': 0.6335, 'type': 'Person', 'normalized_text': 'Morena'}]}, 'author_id': '1390019855064174592', 'public_metrics': {'retweet_count': 0, 'reply_count': 0, 'like_count': 0, 'quote_count': 0}, 'source': 'Twitter for iPhone', 'text': 'A la gente no les puedes mentir, tú eres Morena @samuel_garcias. No niegues la verdad. https://t.co/cai1RIeyHL', 'id': '1398743046297169920', 'created_at': '2021-05-29T20:48:24.000Z'}, 'includes': {'users': [{'created_at': '2021-05-05T19:05:42.000Z', 'verified': False, 'name': 'Greysi💙', 'username': 'greyszu', 'description': 'Escribo mis pensamiento sin que nadie me moleste', 'id': '1390019855064174592', 'location': 'Monterrey, Nuevo León', 'protected': False, 'public_metrics': {'followers_count': 105, 'following_count': 93, 'tweet_count': 1261, 'listed_count': 0}}]}, 'matching_rules': [{'id': 1398729449777111045, 'tag': 'Samuel Garcia'}], 'sentiment': 'MIXED'}\n",
            "{'data': {'attachments': {'media_keys': ['3_1398743051816759299']}, 'entities': {'mentions': [{'start': 75, 'end': 90, 'username': 'samuel_garcias'}], 'urls': [{'start': 91, 'end': 114, 'url': 'https://t.co/0afeMzEBoD', 'expanded_url': 'https://twitter.com/DamSoy12/status/1398743055402823682/photo/1', 'display_url': 'pic.twitter.com/0afeMzEBoD'}], 'annotations': [{'start': 14, 'end': 26, 'probability': 0.9993, 'type': 'Person', 'normalized_text': 'Samuel García'}, {'start': 53, 'end': 56, 'probability': 0.7075, 'type': 'Person', 'normalized_text': 'AMLO'}, {'start': 63, 'end': 72, 'probability': 0.2785, 'type': 'Organization', 'normalized_text': 'Nuevo León'}]}, 'author_id': '1392137339397283841', 'public_metrics': {'retweet_count': 0, 'reply_count': 0, 'like_count': 0, 'quote_count': 0}, 'source': 'Twitter for Android', 'text': '¿Ya saben que Samuel García es el nuevo candidato de AMLO para Nuevo León? @samuel_garcias https://t.co/0afeMzEBoD', 'id': '1398743055402823682', 'created_at': '2021-05-29T20:48:26.000Z'}, 'includes': {'users': [{'created_at': '2021-05-11T15:19:52.000Z', 'verified': False, 'name': 'Dam❣️', 'username': 'DamSoy12', 'description': 'Viviendo mi vida de forma rebelde jajaja | Foránea 🤠', 'id': '1392137339397283841', 'protected': False, 'public_metrics': {'followers_count': 142, 'following_count': 218, 'tweet_count': 1472, 'listed_count': 0}}]}, 'matching_rules': [{'id': 1398729449777111045, 'tag': 'Samuel Garcia'}], 'sentiment': 'NEUTRAL'}\n",
            "...\n",
            "\n",
            "-------------------------------------------\n",
            "Time: 2021-06-08 22:46:58\n",
            "-------------------------------------------\n",
            "{'data': {'context_annotations': [{'domain': {'id': '119', 'name': 'Holiday', 'description': 'Holidays like Christmas or Halloween'}, 'entity': {'id': '1286645331686350848', 'name': 'Dia de la Independencia (Grito de Dolores) ', 'description': 'This entity includes conversations about Dia de la Independencia (Grito de Dolores) for all years.'}}], 'entities': {'hashtags': [{'start': 9, 'end': 29, 'tag': 'VotoMasivoPorMorena'}, {'start': 32, 'end': 57, 'tag': 'NiUnVotoAlPRIANPRDMC2021'}], 'urls': [{'start': 58, 'end': 81, 'url': 'https://t.co/srdWvrpYG6', 'expanded_url': 'https://twitter.com/mario_delgado/status/1398739932345110530', 'display_url': 'twitter.com/mario_delgado/…'}]}, 'author_id': '3038677710', 'referenced_tweets': [{'type': 'quoted', 'id': '1398739932345110530'}], 'public_metrics': {'retweet_count': 0, 'reply_count': 0, 'like_count': 0, 'quote_count': 0}, 'source': 'Twitter Web App', 'text': 'RECUERDA #VotoMasivoPorMorena Y #NiUnVotoAlPRIANPRDMC2021 https://t.co/srdWvrpYG6', 'id': '1398745195869528069', 'created_at': '2021-05-29T20:56:56.000Z'}, 'includes': {'users': [{'created_at': '2015-02-24T02:28:12.000Z', 'verified': False, 'name': 'Miguel Angel Zamudio', 'username': 'miguelangel6669', 'description': 'YO SOY #AMLOVER. En Junio podemos, desaparecer al #PRIANRD, votemos masivamente por MORENA-PT y no permitamos un fraude del corrupto INE #JuntosHaremosHistoria.', 'id': '3038677710', 'location': 'Cuauhtémoc, Distrito Federal', 'protected': False, 'public_metrics': {'followers_count': 15630, 'following_count': 13253, 'tweet_count': 54021, 'listed_count': 26}}]}, 'matching_rules': [{'id': 1398729449777111048, 'tag': 'Clara Luz'}], 'sentiment': 'NEUTRAL'}\n",
            "{'data': {'entities': {'mentions': [{'start': 3, 'end': 18, 'username': 'claraluzflores'}]}, 'author_id': '1020636756385804288', 'referenced_tweets': [{'type': 'retweeted', 'id': '1398727240192610310'}], 'public_metrics': {'retweet_count': 28, 'reply_count': 0, 'like_count': 0, 'quote_count': 0}, 'source': 'Twitter for Android', 'text': 'RT @claraluzflores: Este 6 de junio el poder es tuyo, juntos vamos a construir ese puente al futuro que tanto necesitamos. \\n\\nVamos a regres…', 'id': '1398745201057861632', 'created_at': '2021-05-29T20:56:58.000Z'}, 'includes': {'users': [{'created_at': '2018-07-21T11:49:00.000Z', 'verified': False, 'name': 'higiniobvJr', 'username': 'higiniob29Jr', 'description': '#RedAMLO\\nApoyo total al Presidente, a todo el Gobierno Federal y al Gobcdmx.', 'id': '1020636756385804288', 'location': 'Iztapalapa, Distrito Federal', 'protected': False, 'public_metrics': {'followers_count': 4595, 'following_count': 4864, 'tweet_count': 118479, 'listed_count': 5}}]}, 'matching_rules': [{'id': 1398729449777111048, 'tag': 'Clara Luz'}], 'sentiment': 'POSITIVE'}\n",
            "...\n",
            "\n"
          ],
          "name": "stdout"
        }
      ]
    },
    {
      "cell_type": "markdown",
      "metadata": {
        "id": "ts8fNR7qBXdR"
      },
      "source": [
        "# Obtención del número de veces que una palabra es utilizada"
      ]
    },
    {
      "cell_type": "code",
      "metadata": {
        "id": "OzDZrYFkBYXp"
      },
      "source": [
        "# Volvemos a generar la lista, para obtener los datos del texto por separado.\n",
        "datos_lista = []\n",
        "for i in data_json:\n",
        "    datos_lista.append(data_json[i])\n",
        "\n",
        "np.random.seed(182)\n",
        "\n",
        "batches = []\n",
        "\n",
        "while len(datos_lista) > 100:\n",
        "  batch_size = np.random.randint(50, 100)\n",
        "  batch = datos_lista[:batch_size]\n",
        "  datos_lista = datos_lista[batch_size:]\n",
        "  batches.append(batch)\n",
        "  \n",
        "batches.append(datos_lista)\n",
        "\n",
        "# Procedemos a procesar el texto y contar la ocurrencia de las palabras.\n",
        "palabras_vacias_extra = ['rt', '¿', '?', '¡', '!']\n",
        "palabras_vacias = nltk.corpus.stopwords.words('spanish')\n",
        "for p in palabras_vacias_extra:\n",
        "  palabras_vacias.append(p)\n",
        "\n",
        "def quita_palabras_vacias(texto):\n",
        "  return [ palabra for palabra in texto if palabra not in palabras_vacias ]\n",
        "\n",
        "\n",
        "def quita_caracteres_especiales(texto):\n",
        "  return \n",
        "\n",
        "\n",
        "def actualiza_conteo(valores_nuevos, valor_actual):\n",
        "  if valor_actual is None:\n",
        "    valor_actual = 0\n",
        "  return sum(valores_nuevos) + valor_actual\n",
        "\n",
        "\n",
        "def agrupar_palabra(palabra):\n",
        "  palabras = []\n",
        "  for p in palabra[1]:\n",
        "    p = ''.join(re.findall(\"\\w\", p))\n",
        "    palabras.append((palabra[0], p))\n",
        "  return palabras\n",
        "\n",
        "\n",
        "sc = SparkContext.getOrCreate()\n",
        "delta_t = 1 # en segundos\n",
        "ssc = StreamingContext(sc, delta_t)\n",
        "ssc.checkpoint(\"StreamingContext_checkpoint\")\n",
        "\n",
        "flujo_rym = ssc.queueStream(batches)\n",
        "\n",
        "conteo_datos = flujo_rym.map(lambda tuit: (tuit['matching_rules'][0]['tag'],\n",
        "                                           tuit['data']['text'].lower())) \\\n",
        "                        .map(lambda tuit: (tuit[0], tuit[1].split())) \\\n",
        "                        .map(lambda tuit: (tuit[0], quita_palabras_vacias(tuit[1]))) \\\n",
        "                        .map(lambda palabra: agrupar_palabra(palabra)) \\\n",
        "                        .flatMap(lambda x: x) \\\n",
        "                        .map(lambda x: (x, 1)) \\\n",
        "                        .updateStateByKey(actualiza_conteo)\n",
        "\n",
        "\n",
        "conteo_datos.pprint()\n",
        "\n",
        "ssc.start()\n",
        "sleep(10)\n",
        "ssc.stop(stopSparkContext = False)"
      ],
      "execution_count": null,
      "outputs": []
    },
    {
      "cell_type": "markdown",
      "metadata": {
        "id": "zQkh_VhEDHOw"
      },
      "source": [
        "## Dashboard"
      ]
    },
    {
      "cell_type": "code",
      "metadata": {
        "id": "fiAiJrNiDG3y"
      },
      "source": [
        "from IPython.display import clear_output\n",
        "import copy"
      ],
      "execution_count": null,
      "outputs": []
    },
    {
      "cell_type": "code",
      "metadata": {
        "id": "nHeRFnwNYo5v"
      },
      "source": [
        "class TweetSource:\n",
        "    def __init__(self, name):\n",
        "        self.name = name\n",
        "        self.positive = 0\n",
        "        self.negative = 0\n",
        "        self.neutral = 0\n",
        "        \n",
        "    def add(self, sentiment, count):\n",
        "        if sentiment == 'POSITIVE':\n",
        "            self.positive += count\n",
        "        elif sentiment == 'NEGATIVE':\n",
        "            self.negative += count\n",
        "        else:\n",
        "            self.neutral += count\n",
        "\n",
        "class DashBoard:\n",
        "    def __init__(self):\n",
        "        self.rdd = None\n",
        "        self.iOS_source     = TweetSource(name='iOS')\n",
        "        self.android_source = TweetSource(name='Android')\n",
        "        self.other_source   = TweetSource(name='Other')\n",
        "\n",
        "    def add_rdd(self, rdd):\n",
        "        self.rdd = rdd\n",
        "\n",
        "    def process_sources_from(self, record):\n",
        "        source = record[0][0].lower()\n",
        "        sentiment = record[0][1]\n",
        "        count = record[1]\n",
        "        if 'iPhone'.lower() in source or 'iPad'.lower() in source:\n",
        "            self.iOS_source.add(sentiment, count)\n",
        "        elif 'Android'.lower() in source:\n",
        "            self.android_source.add(sentiment, count)\n",
        "        else:\n",
        "            self.other_source.add(sentiment, count)\n",
        "\n",
        "    def show_tweet_sources(self):\n",
        "        print (\"{:<12} {:<16} {:<16} {:<16}\".format('iOS', self.iOS_source.positive, self.iOS_source.negative, self.iOS_source.neutral))\n",
        "        print (\"{:<12} {:<16} {:<16} {:<16}\".format('Android', self.android_source.positive, self.android_source.negative, self.android_source.neutral))\n",
        "        print (\"{:<12} {:<16} {:<16} {:<16}\".format('Otro', self.other_source.positive, self.other_source.negative, self.other_source.neutral))\n",
        "\n",
        "    def view_tweet_sources(self, candidate):\n",
        "        if self.rdd is None:\n",
        "            raise Exception(\"Dashboard must contain an RDD\")\n",
        "        self.rdd = self.rdd.filter(lambda x: x['matching_rules'][0]['tag'] == candidate) \\\n",
        "                        .map(lambda x: ((x['data']['source'], x['sentiment']), 1)) \\\n",
        "                            .reduceByKey(add)\n",
        "\n",
        "        for record in self.rdd.collect():\n",
        "            self.process_sources_from(record)\n",
        "        self.show_tweet_sources()\n",
        "        print(\"\")"
      ],
      "execution_count": null,
      "outputs": []
    },
    {
      "cell_type": "code",
      "metadata": {
        "id": "a8udJJSaYvf9"
      },
      "source": [
        "d1 = DashBoard()\n",
        "d2 = DashBoard()\n",
        "d3 = DashBoard()\n",
        "d4 = DashBoard()\n",
        "\n",
        "politicians = {\n",
        "    'Samuel Garcia': 'Movimiento Ciudadano',\n",
        "    'Clara Luz': 'Morena',\n",
        "    'Adrian de la Garza': 'PRI',\n",
        "    'Fernando Larrazabal': 'PAN',\n",
        "}\n",
        "\n",
        "def view_source_per_candidate(candidate, dashboard, rdd):\n",
        "    print(f\"{candidate} - {politicians[candidate]}\")\n",
        "    print(\"{:<12} {:<15} {:<15} {:<15}\".format('', 'POSITIVO', 'NEGATIVO', 'NEUTRAL'))\n",
        "    dashboard.add_rdd(rdd)\n",
        "    dashboard.view_tweet_sources(candidate)\n",
        "\n",
        "\n",
        "def update_dashboard(time, rdd):\n",
        "    global d1, d2, d3, d4\n",
        "    clear_output(wait=True)\n",
        "    print(\"------------------------------------------------------\")\n",
        "    print(f\"Tiempo: {time}\")\n",
        "    print(\"------------------------------------------------------\")\n",
        "    view_source_per_candidate('Samuel Garcia', d1, rdd)\n",
        "    #view_source_per_candidate('Clara Luz', d2, rdd)\n",
        "    #view_source_per_candidate('Adrian de la Garza', d3, rdd)\n",
        "    #view_source_per_candidate('Fernando Larrazabal', d4, rdd)"
      ],
      "execution_count": null,
      "outputs": []
    },
    {
      "cell_type": "code",
      "metadata": {
        "colab": {
          "base_uri": "https://localhost:8080/"
        },
        "id": "tdFO6cqDYxWE",
        "outputId": "1d2209dc-6b19-40b4-ab2e-201404ba6072"
      },
      "source": [
        "sc = SparkContext.getOrCreate()\n",
        "delta_t = 1 # en segundos\n",
        "ssc = StreamingContext(sc, delta_t)\n",
        "\n",
        "tweets_stream = ssc.queueStream(batches).foreachRDD(update_dashboard)\n",
        "\n",
        "ssc.start()\n",
        "sleep(10)\n",
        "ssc.stop(stopSparkContext = False)"
      ],
      "execution_count": null,
      "outputs": [
        {
          "output_type": "stream",
          "text": [
            "------------------------------------------------------\n",
            "Tiempo: 2021-06-09 01:38:46\n",
            "------------------------------------------------------\n",
            "Samuel Garcia - Movimiento Ciudadano\n",
            "             POSITIVO        NEGATIVO        NEUTRAL        \n",
            "iOS          1                43               67              \n",
            "Android      7                80               127             \n",
            "Otro         1                12               18              \n",
            "\n"
          ],
          "name": "stdout"
        }
      ]
    },
    {
      "cell_type": "markdown",
      "metadata": {
        "id": "3Ap4Y3GZHYcQ"
      },
      "source": [
        "# Mapa de Palabras"
      ]
    },
    {
      "cell_type": "code",
      "metadata": {
        "id": "4enpiCNsHclW"
      },
      "source": [
        "%matplotlib"
      ],
      "execution_count": 10,
      "outputs": [
        {
          "output_type": "stream",
          "name": "stdout",
          "text": [
            "Using matplotlib backend: MacOSX\n"
          ]
        }
      ]
    },
    {
      "cell_type": "code",
      "metadata": {
        "id": "_WKKZhPLHdVl"
      },
      "source": [
        "nltk.download('stopwords')\n",
        "from nltk.corpus import stopwords"
      ],
      "execution_count": 11,
      "outputs": [
        {
          "output_type": "stream",
          "name": "stderr",
          "text": [
            "[nltk_data] Downloading package stopwords to\n[nltk_data]     /Users/nestorivanmo/nltk_data...\n[nltk_data]   Package stopwords is already up-to-date!\n"
          ]
        }
      ]
    },
    {
      "cell_type": "code",
      "metadata": {
        "id": "MWXiIqByHhW3"
      },
      "source": [
        "stop_words_sp = set(stopwords.words('spanish')).union({\"rt\"})"
      ],
      "execution_count": 12,
      "outputs": []
    },
    {
      "cell_type": "code",
      "metadata": {
        "id": "dj3a_uxwHk1u"
      },
      "source": [
        "def quita_palabras_vacias(texto, p = stop_words_sp):\n",
        "    texto_limpio = [ palabra for palabra in texto if palabra not in p ]\n",
        "    return texto_limpio"
      ],
      "execution_count": 13,
      "outputs": []
    },
    {
      "cell_type": "code",
      "metadata": {
        "id": "vI9So4iGHmJm"
      },
      "source": [
        "palabras = \"\"\n",
        "\n",
        "def init_mapa():\n",
        "    global palabras\n",
        "    \n",
        "    palabras = \"\"\n",
        "    wc = WordCloud()\n",
        "    wc.generate(\"Hola\")\n",
        "    plt.ion()\n",
        "    fig = plt.figure()\n",
        "    ax = fig.add_subplot(111)\n",
        "    ax.axis(\"off\")\n",
        "\n",
        "    \n",
        "    mapa = ax.imshow(wc, interpolation='bilinear')\n",
        "    return fig, mapa\n",
        "\n",
        "def actualizar_mapa(nuevas_palabras, fig, mapa, nombre = \"a.png\"):\n",
        "    global palabras\n",
        "    palabras = palabras + \" \" + nuevas_palabras\n",
        "    print(len(palabras))\n",
        "\n",
        "    wc = WordCloud()\n",
        "    wc.generate(palabras)\n",
        "    mapa.set_data(wc)\n",
        "    fig.canvas.draw()\n",
        "    fig.canvas.flush_events()\n",
        "    fig.savefig(nombre)\n",
        "    sleep(2)"
      ],
      "execution_count": 18,
      "outputs": []
    },
    {
      "cell_type": "code",
      "metadata": {
        "id": "qAI98QJ3Hpf6"
      },
      "source": [
        "fig, mapa = init_mapa()\n",
        "usernames = [\"samuelgarcias\",\"adriandelagarza\",\"andreac\",\"claraluzflores\",\"crisitibellaka\",\"greyszu\",\"mariodelgado\",\"ferlarrazabalnl\",\"michrmzd\"]\n",
        "\n",
        "sc = SparkContext.getOrCreate()\n",
        "delta_t = 1 # en segundos\n",
        "ssc = StreamingContext(sc, delta_t)\n",
        "\n",
        "flujo = ssc.queueStream(batches)\n",
        "\n",
        "flujo.map(lambda x : x[\"data\"][\"text\"]) \\\n",
        "     .map(lambda dialogo: dialogo.lower()) \\\n",
        "     .map(lambda dialogo: dialogo.translate(str.maketrans('', '', string.punctuation + string.digits + \"¿¡\"))) \\\n",
        "     .map(lambda dialogo: dialogo.split(' ')) \\\n",
        "     .map(lambda palabra: quita_palabras_vacias(palabra)) \\\n",
        "     .map(lambda palabra: quita_palabras_vacias(palabra, usernames)) \\\n",
        "     .flatMap(lambda x: x) \\\n",
        "     .map(lambda dialogo: dialogo.translate(str.maketrans('', '', string.whitespace))) \\\n",
        "     .filter(lambda x : len(x) > 0) \\\n",
        "     .foreachRDD(lambda time, rdd : actualizar_mapa(\" \".join(rdd.collect()), fig, mapa, \"palabras_%s.png\" % (str(time))))\n",
        "\n",
        "ssc.start()\n",
        "sleep(10)\n",
        "ssc.stop(stopSparkContext = False)"
      ],
      "execution_count": 19,
      "outputs": [
        {
          "output_type": "stream",
          "name": "stdout",
          "text": [
            "6731\n",
            "10862\n",
            "17224\n"
          ]
        }
      ]
    },
    {
      "cell_type": "code",
      "execution_count": null,
      "metadata": {},
      "outputs": [],
      "source": []
    }
  ]
}